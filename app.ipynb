{
 "cells": [
  {
   "cell_type": "code",
   "execution_count": null,
   "metadata": {},
   "outputs": [],
   "source": [
    "from flask import Flask, render_template, request\n",
    "import chatbot\n",
    "\n",
    "app = Flask(__name__)\n",
    "\n",
    "\n",
    "@app.route(\"/\")\n",
    "def home():    \n",
    "    return render_template(\"home.html\") \n",
    "@app.route(\"/get\")\n",
    "def get_bot_response():    \n",
    "    userText = request.args.get('msg')    \n",
    "    return str(chatbot.chat_response(userText)) \n",
    "if __name__ == \"__main__\":    \n",
    "    app.run(debug=True)"
   ]
  }
 ],
 "metadata": {
  "language_info": {
   "name": "python"
  }
 },
 "nbformat": 4,
 "nbformat_minor": 2
}
