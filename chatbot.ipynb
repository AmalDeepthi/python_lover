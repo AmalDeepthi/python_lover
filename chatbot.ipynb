{
 "cells": [
  {
   "cell_type": "code",
   "execution_count": null,
   "metadata": {},
   "outputs": [],
   "source": [
    "import numpy as np\n",
    "import pandas as pd\n",
    "import neattext.functions as ntf \n",
    "import string\n",
    "import nltk\n",
    "import random\n",
    "from sklearn.feature_extraction.text import TfidfVectorizer,CountVectorizer,TfidfTransformer\n",
    "from sklearn.pipeline import Pipeline\n",
    "from sklearn.tree import DecisionTreeClassifier\n",
    "sn=pd.read_csv(\"C:/Users/amald/OneDrive/Desktop/AI(deepthi)/dialogs.txt\",sep='\\t',names=['questions','answers'])\n",
    "print(sn)\n",
    "user_greetings=[\"hello\",'hi','hai','hiii','hii robo','hai robo','hello how are you doing']\n",
    "greeting_response=['hai','hello','hi thanks for asking how are you doing']\n",
    "sn['clean_questions']=sn['questions'].apply(ntf.remove_userhandles)\n",
    "sn['clean_questions']=sn['clean_questions'].apply(ntf.remove_punctuations)\n",
    "sn['clean_answers']=sn['answers'].apply(ntf.remove_userhandles)\n",
    "sn['clean_answers']=sn['clean_answers'].apply(ntf.remove_punctuations)\n",
    "print(sn)\n",
    "pipe=Pipeline(steps=[('bow',CountVectorizer()),('tfidf',TfidfTransformer()),('dt',DecisionTreeClassifier())])\n",
    "pipe.fit(sn['clean_questions'],sn['clean_answers'])\n",
    "print(pipe)\n",
    "print(\"Robo: Wellcome I am Robo I am here to help you regarding all yours questions\")\n",
    "print('--'*30)\n",
    "user=input(\"Enter your response:\")\n",
    "for i in list(user_greetings):\n",
    "    if user==i:\n",
    "        print(random.choice(greeting_response))\n",
    "        print('Robo: Please type your question.If you have no question then type bye')\n",
    "        while True :\n",
    "            question=input('Robo: Enter your question here :')\n",
    "            q1=pipe.predict([question])[0]\n",
    "            print('Robo :',q1)\n",
    "            if (question=='bye'or question=='thank you bye'or question=='ok bike'or question=='bye robo'or question=='thanks robo bye'):\n",
    "                print('Robo: bye thanks you for your coperation')\n",
    "                break\n",
    "        else :\n",
    "            print('sorry i dont have any idea about your question,thanks for asking if you have any other question start the conversation else type bye')\n",
    "\n",
    "my_bot = ChatBot(name='PyBot', read_only=True)\n",
    "list_trainer = ListTrainer(my_bot)\n",
    "for item in (small_talk, math_talk_1, math_talk_2):\n",
    "    list_trainer.train(item)\n",
    "def chat_response(msg):\n",
    "    return my_bot.get_response(msg)"
   ]
  }
 ],
 "metadata": {
  "language_info": {
   "name": "python"
  }
 },
 "nbformat": 4,
 "nbformat_minor": 2
}
